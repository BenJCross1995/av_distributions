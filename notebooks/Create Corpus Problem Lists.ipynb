{
 "cells": [
  {
   "cell_type": "markdown",
   "id": "35b26011",
   "metadata": {},
   "source": [
    "# Create the Corpus Problem Lists\n",
    "\n",
    "The notebook below creates the lists of documents for the corpus and datatype."
   ]
  },
  {
   "cell_type": "code",
   "execution_count": 58,
   "id": "2ab9b77a",
   "metadata": {},
   "outputs": [],
   "source": [
    "import sys\n",
    "import pandas as pd\n",
    "\n",
    "from from_root import from_root\n",
    "\n",
    "sys.path.insert(0, str(from_root(\"src\")))\n",
    "\n",
    "from utils import get_base_location, build_metadata_df, apply_temp_doc_id\n",
    "from read_and_write_docs import read_jsonl, read_rds"
   ]
  },
  {
   "cell_type": "code",
   "execution_count": 59,
   "id": "983f2fd4",
   "metadata": {},
   "outputs": [],
   "source": [
    "\n",
    "corpus      = \"Enron\"\n",
    "data_type   = \"test\"\n",
    "\n",
    "# Set NAS so can run on Windows laptop seamlessly\n",
    "nas_base_loc = get_base_location()\n",
    "\n",
    "known_loc = f\"{nas_base_loc}/datasets/author_verification/{data_type}/{corpus}/known_raw.jsonl\"\n",
    "unknown_loc = f\"{nas_base_loc}/datasets/author_verification/{data_type}/{corpus}/unknown_raw.jsonl\"\n",
    "metadata_loc = f\"{nas_base_loc}/datasets/author_verification/{data_type}/metadata.rds\"\n",
    "\n",
    "save_loc = f\"{nas_base_loc}/datasets/author_verification/{data_type}/{corpus}\""
   ]
  },
  {
   "cell_type": "markdown",
   "id": "a670ee9c",
   "metadata": {},
   "source": [
    "## Read Data"
   ]
  },
  {
   "cell_type": "code",
   "execution_count": 60,
   "id": "e2df14bf",
   "metadata": {},
   "outputs": [],
   "source": [
    "metadata = read_rds(metadata_loc)\n",
    "filtered_metadata = metadata[metadata['corpus'] == corpus]\n",
    "\n",
    "known = read_jsonl(known_loc)\n",
    "unknown = read_jsonl(unknown_loc)"
   ]
  },
  {
   "cell_type": "markdown",
   "id": "e70de0ca",
   "metadata": {},
   "source": [
    "## Create Metadata\n",
    "\n",
    "Quite a convoluted process."
   ]
  },
  {
   "cell_type": "code",
   "execution_count": 61,
   "id": "aa182e94",
   "metadata": {},
   "outputs": [],
   "source": [
    "# Build the dataframe\n",
    "complete_metadata = build_metadata_df(filtered_metadata, known, unknown)\n",
    "\n",
    "# Set blank text column for function to work\n",
    "complete_metadata['text'] = ''\n",
    "\n",
    "# Rename the known column and create the new doc_id\n",
    "complete_metadata.rename(columns={\"known_doc_id\": \"orig_doc_id\"}, inplace=True)\n",
    "complete_metadata = apply_temp_doc_id(complete_metadata)\n",
    "complete_metadata.rename(columns={\n",
    "    \"orig_doc_id\": \"orig_known_doc_id\",\n",
    "    \"doc_id\": \"known_doc_id\",\n",
    "    \"unknown_doc_id\": \"orig_doc_id\"\n",
    "}, inplace=True)\n",
    "\n",
    "# Do the same for the unknown\n",
    "complete_metadata = apply_temp_doc_id(complete_metadata)\n",
    "complete_metadata.rename(columns={\n",
    "    \"orig_doc_id\": \"orig_unknown_doc_id\",\n",
    "    \"doc_id\": \"unknown_doc_id\",\n",
    "}, inplace=True)\n",
    "\n",
    "# Sort columns\n",
    "complete_metadata = complete_metadata[[\"sample_id\", \"problem\", \"corpus\", \"known_doc_id\", \"unknown_doc_id\"]]"
   ]
  },
  {
   "cell_type": "markdown",
   "id": "8d79cc1e",
   "metadata": {},
   "source": [
    "## View the data"
   ]
  },
  {
   "cell_type": "code",
   "execution_count": 62,
   "id": "9e11cd76",
   "metadata": {},
   "outputs": [
    {
     "data": {
      "text/html": [
       "<div>\n",
       "<style scoped>\n",
       "    .dataframe tbody tr th:only-of-type {\n",
       "        vertical-align: middle;\n",
       "    }\n",
       "\n",
       "    .dataframe tbody tr th {\n",
       "        vertical-align: top;\n",
       "    }\n",
       "\n",
       "    .dataframe thead th {\n",
       "        text-align: right;\n",
       "    }\n",
       "</style>\n",
       "<table border=\"1\" class=\"dataframe\">\n",
       "  <thead>\n",
       "    <tr style=\"text-align: right;\">\n",
       "      <th></th>\n",
       "      <th>sample_id</th>\n",
       "      <th>problem</th>\n",
       "      <th>corpus</th>\n",
       "      <th>known_doc_id</th>\n",
       "      <th>unknown_doc_id</th>\n",
       "    </tr>\n",
       "  </thead>\n",
       "  <tbody>\n",
       "    <tr>\n",
       "      <th>0</th>\n",
       "      <td>1</td>\n",
       "      <td>Kevin.hyatt vs Kevin.hyatt</td>\n",
       "      <td>Enron</td>\n",
       "      <td>kevin_hyatt_mail_1</td>\n",
       "      <td>kevin_hyatt_mail_2</td>\n",
       "    </tr>\n",
       "    <tr>\n",
       "      <th>1</th>\n",
       "      <td>2</td>\n",
       "      <td>Kevin.hyatt vs Kevin.hyatt</td>\n",
       "      <td>Enron</td>\n",
       "      <td>kevin_hyatt_mail_3</td>\n",
       "      <td>kevin_hyatt_mail_2</td>\n",
       "    </tr>\n",
       "    <tr>\n",
       "      <th>2</th>\n",
       "      <td>3</td>\n",
       "      <td>Kevin.hyatt vs Kevin.hyatt</td>\n",
       "      <td>Enron</td>\n",
       "      <td>kevin_hyatt_mail_4</td>\n",
       "      <td>kevin_hyatt_mail_2</td>\n",
       "    </tr>\n",
       "    <tr>\n",
       "      <th>3</th>\n",
       "      <td>4</td>\n",
       "      <td>Kevin.hyatt vs Kevin.hyatt</td>\n",
       "      <td>Enron</td>\n",
       "      <td>kevin_hyatt_mail_5</td>\n",
       "      <td>kevin_hyatt_mail_2</td>\n",
       "    </tr>\n",
       "    <tr>\n",
       "      <th>4</th>\n",
       "      <td>5</td>\n",
       "      <td>Kevin.hyatt vs Kimberly.watson</td>\n",
       "      <td>Enron</td>\n",
       "      <td>kevin_hyatt_mail_1</td>\n",
       "      <td>kimberly_watson_mail_3</td>\n",
       "    </tr>\n",
       "  </tbody>\n",
       "</table>\n",
       "</div>"
      ],
      "text/plain": [
       "   sample_id                         problem corpus        known_doc_id  \\\n",
       "0          1      Kevin.hyatt vs Kevin.hyatt  Enron  kevin_hyatt_mail_1   \n",
       "1          2      Kevin.hyatt vs Kevin.hyatt  Enron  kevin_hyatt_mail_3   \n",
       "2          3      Kevin.hyatt vs Kevin.hyatt  Enron  kevin_hyatt_mail_4   \n",
       "3          4      Kevin.hyatt vs Kevin.hyatt  Enron  kevin_hyatt_mail_5   \n",
       "4          5  Kevin.hyatt vs Kimberly.watson  Enron  kevin_hyatt_mail_1   \n",
       "\n",
       "           unknown_doc_id  \n",
       "0      kevin_hyatt_mail_2  \n",
       "1      kevin_hyatt_mail_2  \n",
       "2      kevin_hyatt_mail_2  \n",
       "3      kevin_hyatt_mail_2  \n",
       "4  kimberly_watson_mail_3  "
      ]
     },
     "execution_count": null,
     "metadata": {},
     "output_type": "execute_result"
    }
   ],
   "source": [
    "complete_metadata.head()"
   ]
  },
  {
   "cell_type": "markdown",
   "id": "c42d8ab1",
   "metadata": {},
   "source": [
    "## Get Number of Rows in the Dataset\n",
    "\n",
    "This is used for the jobscript."
   ]
  },
  {
   "cell_type": "code",
   "execution_count": 63,
   "id": "4149c5f4",
   "metadata": {},
   "outputs": [
    {
     "name": "stdout",
     "output_type": "stream",
     "text": [
      "Number of rows needed in jobscript: 340\n"
     ]
    }
   ],
   "source": [
    "num_rows_for_jobscript = complete_metadata.shape[0]\n",
    "print(f\"Number of rows needed in jobscript: {num_rows_for_jobscript}\")"
   ]
  },
  {
   "cell_type": "markdown",
   "id": "ff69718e",
   "metadata": {},
   "source": [
    "## Save the Lists"
   ]
  },
  {
   "cell_type": "code",
   "execution_count": 64,
   "id": "e45802ed",
   "metadata": {},
   "outputs": [
    {
     "name": "stdout",
     "output_type": "stream",
     "text": [
      "Wrote known_doc_list.txt and unknown_doc_list.txt\n"
     ]
    }
   ],
   "source": [
    "pd.Series(complete_metadata[\"known_doc_id\"].astype(str)).to_csv(f\"{save_loc}/known_doc_list.txt\", index=False, header=False)\n",
    "pd.Series(complete_metadata[\"unknown_doc_id\"].astype(str)).to_csv(f\"{save_loc}/unknown_doc_list.txt\", index=False, header=False)\n",
    "print(\"Wrote known_doc_list.txt and unknown_doc_list.txt\")"
   ]
  }
 ],
 "metadata": {
  "language_info": {
   "name": "python"
  }
 },
 "nbformat": 4,
 "nbformat_minor": 5
}
