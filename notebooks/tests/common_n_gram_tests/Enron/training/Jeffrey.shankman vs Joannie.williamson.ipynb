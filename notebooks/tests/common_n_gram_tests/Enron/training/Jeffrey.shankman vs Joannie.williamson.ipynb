{
 "cells": [
  {
   "cell_type": "code",
   "execution_count": 1,
   "id": "32190cf1",
   "metadata": {},
   "outputs": [],
   "source": [
    "import sys\n",
    "import os"
   ]
  },
  {
   "cell_type": "code",
   "execution_count": 4,
   "id": "02e7b003",
   "metadata": {},
   "outputs": [],
   "source": [
    "sys.path.append(os.path.abspath('../../../../../src'))\n",
    "\n",
    "from read_and_write_docs import read_jsonl, read_rds, write_jsonl\n",
    "from tokenize_and_score import load_model\n",
    "from utils import apply_temp_doc_id, build_metadata_df\n",
    "from n_gram_functions import common_ngrams, pretty_print_common_ngrams"
   ]
  },
  {
   "cell_type": "code",
   "execution_count": 5,
   "id": "5b0f4ab2",
   "metadata": {},
   "outputs": [],
   "source": [
    "corpus = \"Enron\"\n",
    "data_type = \"training\"\n",
    "\n",
    "known_loc = f\"/Volumes/BCross/datasets/author_verification/{data_type}/{corpus}/known_raw.jsonl\"\n",
    "known = read_jsonl(known_loc)\n",
    "known = apply_temp_doc_id(known)\n",
    "\n",
    "unknown_loc = f\"/Volumes/BCross/datasets/author_verification/{data_type}/{corpus}/unknown_raw.jsonl\"\n",
    "unknown = read_jsonl(unknown_loc)\n",
    "unknown_df = apply_temp_doc_id(unknown)\n",
    "\n",
    "metadata_loc = f\"/Volumes/BCross/datasets/author_verification/{data_type}/metadata.rds\"\n",
    "metadata = read_rds(metadata_loc)\n",
    "filtered_metadata = metadata[metadata['corpus'] == corpus]\n",
    "agg_metadata = build_metadata_df(filtered_metadata, known, unknown)"
   ]
  },
  {
   "cell_type": "code",
   "execution_count": 8,
   "id": "eb6993e5",
   "metadata": {},
   "outputs": [],
   "source": [
    "known_doc = \"jeffrey_shankman_mail_4\"\n",
    "known_text = known[known['doc_id'] == known_doc].reset_index().loc[0, 'text']\n",
    "\n",
    "unknown_doc = \"joannie_williamson_mail_4\"\n",
    "unknown_text = unknown[unknown['doc_id'] == unknown_doc].reset_index().loc[0, 'text']"
   ]
  },
  {
   "cell_type": "code",
   "execution_count": 9,
   "id": "097eadcc",
   "metadata": {},
   "outputs": [],
   "source": [
    "tokenizer, model = load_model(\"/Volumes/BCross/models/Qwen 2.5/Qwen2.5-0.5B-Instruct\")"
   ]
  },
  {
   "cell_type": "code",
   "execution_count": 10,
   "id": "b72faabe",
   "metadata": {},
   "outputs": [],
   "source": [
    "common = common_ngrams(known_text, unknown_text, 2, model, tokenizer)"
   ]
  },
  {
   "cell_type": "code",
   "execution_count": 12,
   "id": "6f1787f6",
   "metadata": {},
   "outputs": [
    {
     "name": "stdout",
     "output_type": "stream",
     "text": [
      "2-grams (28): [' a great', ' and other', ' and then', ' back in', ' e-mail', ' for the', ' i believe', ' jeff', ' me to', ' of our', ' of the', ' of this', ' on the', ' the sender', ' to be', ' to contact', ' to the', ' we will', ' week,', ' with the', ' would be', ' you have', ' you on', ', but', ', i', ', please', '. please', '9,']\n",
      "3-grams (6): [' 24', ' and any attachments', ' and will be', ' please do not', ' would like to', '. i will']\n",
      "4-grams (2): [' this message and any', ' this message, and']\n",
      "8-grams (1): ['. if you are not the intended recipient']\n"
     ]
    }
   ],
   "source": [
    "pretty_print_common_ngrams(common, tokenizer=tokenizer)"
   ]
  },
  {
   "cell_type": "code",
   "execution_count": 18,
   "id": "2e7651c4",
   "metadata": {},
   "outputs": [
    {
     "name": "stdout",
     "output_type": "stream",
     "text": [
      "\n",
      "<DOC>\n",
      "By now I'm sure you know you are on our interview list. If I told you prematurely, use it to your advantage somehow with your friends. I've contacted one of our head broadband marketers to set up an introduction, and see where this goes. It's a great idea, and you should hear back from me shortly, when David responds to me call. Please call me Jeff--I'm not some grey haired old dude, but I appreciated your being professional in your first email to me. You told me to send you an email around this time to follow up, so I can find out who to contact to get the ball rolling. Thanks again for taking the time to listen to my idea. I was driving home last night from the airport down 59, and I passed all sorts of emergency vehicles because of an explosing near. I have forwarded your resume to Ted Bland. Thanks for the video conference this morning. Mike and I are convinced weather can and will be an extremely profitable business. One issue I would like to address is EnergyDesk. It seems like an interesting idea, but I'd like to find out more about it, and in relation to the work Tom Gros in doing in NetWorks. I'd also like to understand more about the scalability of this model, and our relationship with Kiodex. To that end, I do not want any proprietary data, product interface, and or other weather related matter and material to be part of EnergyDesk. I will keep you updated as I learn more about these and other issues. Regards Jeff Hi John, hope things are well. Hickerson and I were talking yesterday about the convert bond desk, and he mentioned to me that it make sense for it to come to his group. I understand you have had prelim discussions about this, and wanted to catch up with you on this matter. I'll give you a ring by week's end if we want to proceed. With regard to storage, we will proceed on the assumption that you will not want to query any period longer than the previous calendar month and thus will not store any data that is more than 45 days old. Further to your report proceed with your recommendation. Also, we do not need to store any data once I see report. If further conversations with our technical folks, they have a suggestion which I believe increases the flexibility of this report and a key question which helps determine the resources required to support it. If the report is designed to run with a Start date and End date, you will be able to pick the reporting period. For example a particular week, a calendar month, the latest four weeks, etc. This would be in lieu of the more structured hard coded format in my e-mail of yesterday. How far back in time do you want to query? There is an extensive data capture requirement to prepare this report. Each product will be queried a minimum of 24 times each day to capture the time, bid price, bid volume, offer price, offer volume. All of this data will need to be stored for as long as you want to be able to query. By limiting the amount of time the data is kept, we can minimize the amount of data storage resources required to support this report. My cell phone died, and wouldn't work with the car for some reason. 30 a little problem this morn here --thanks for the repeated attempts \"Lisa A. This message and any attachments are intended for the individual or entity named above. If you are not the intended recipient, please do not read, copy, use or disclose this communication to others also please notify the sender by replying to this message, and then delete it from your system. You didn't call last night after Walgreens and you didn't answer this morning. Also, we do not need to store any data once I see report. If further conversations with our technical folks, they have a suggestion which I believe increases the flexibility of this report and a key question which helps determine the resources required to support it. If the report is designed to run with a Start date and End date, you will be able to pick the reporting period. For example a particular week, a calendar month, the latest four weeks, etc. This would be in lieu of the more structured hard coded format in my e-mail of yesterday. How far back in time do you want to query? There is an extensive data capture requirement to prepare this report. Each product will be queried a minimum of 24 times each day to capture the time, bid price, bid volume, offer price, offer volume. All of this data will need to be stored for as long as you want to be able to query. By limiting the amount of time the data is kept, we can minimize the amount of data storage resources required to support this report. Doug is a good guy that I want to put under contract.\n",
      "</DOC>\n",
      "<NGRAM>\n",
      "\n"
     ]
    }
   ],
   "source": [
    "print(f\"\"\"\n",
    "<DOC>\n",
    "{known_text}\n",
    "</DOC>\n",
    "<NGRAM>\n",
    "\"\"\")"
   ]
  },
  {
   "cell_type": "markdown",
   "id": "5f98c4cd",
   "metadata": {},
   "source": [
    "## Phrase - . if you are not the intended recipient"
   ]
  },
  {
   "cell_type": "code",
   "execution_count": null,
   "id": "d334e7d7",
   "metadata": {},
   "outputs": [],
   "source": [
    "p_1 = \". if you are not the intended recipient\"\n",
    "\n",
    "para_1 = [\n",
    "    \". if you are not the intended recipient\",\n",
    "    \". if you're not the intended recipient\",\n",
    "    \". if you aren't the intended recipient\",\n",
    "    \". if you are not the intended addressee\",\n",
    "    \". if you're not the intended addressee\",\n",
    "    \". if you aren't the intended addressee\",\n",
    "    \". if you are not the intended receiver\",\n",
    "    \". if you're not the intended receiver\",\n",
    "    \". if you aren't the intended receiver\",\n",
    "    \". if you are not the designated recipient\",\n",
    "    \". if you're not the designated recipient\",\n",
    "    \". if you aren't the designated recipient\",\n",
    "    \". if you are not the designated addressee\",\n",
    "    \". if you're not the designated addressee\",\n",
    "    \". if you aren't the designated addressee\",\n",
    "    \". if you are not the intended recipent\",\n",
    "    \". if you're not the intended recipent\",\n",
    "    \". if you aren't the intended recipent\",\n",
    "    \". if you are not the intended recepient\",\n",
    "    \". if you're not the intended recepient\",\n",
    "    \". if you aren't the intended recepient\",\n",
    "    \". if you are not the intended reciepient\",\n",
    "    \". if you're not the intended reciepient\",\n",
    "    \". if you aren't the intended reciepient\",\n",
    "    \". if you are not the intended adressee\",\n",
    "    \". if you're not the intended adressee\",\n",
    "    \". if you aren't the intended adressee\",\n",
    "    \". if you are not the intended reciever\",\n",
    "    \". if you're not the intended reciever\",\n",
    "    \". if you aren't the intended reciever\"\n",
    "]"
   ]
  }
 ],
 "metadata": {
  "language_info": {
   "name": "python"
  }
 },
 "nbformat": 4,
 "nbformat_minor": 5
}
