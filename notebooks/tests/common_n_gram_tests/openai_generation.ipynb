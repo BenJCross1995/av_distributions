{
 "cells": [
  {
   "cell_type": "code",
   "execution_count": null,
   "id": "48f3e9bb",
   "metadata": {},
   "outputs": [],
   "source": [
    "import sys\n",
    "import json\n",
    "from from_root import from_root"
   ]
  },
  {
   "cell_type": "code",
   "execution_count": 130,
   "id": "4e9d260c",
   "metadata": {},
   "outputs": [
    {
     "data": {
      "text/plain": [
       "PosixPath('/Users/user/Documents/GitHub/av_distributions/utils.py')"
      ]
     },
     "execution_count": null,
     "metadata": {},
     "output_type": "execute_result"
    }
   ],
   "source": [
    "from_root(\"utils.py\")"
   ]
  },
  {
   "cell_type": "code",
   "execution_count": 131,
   "id": "5e7c23ea",
   "metadata": {},
   "outputs": [],
   "source": [
    "sys.path.insert(0, str(from_root(\"src\")))\n",
    "\n",
    "from open_ai import initialise_client, llm"
   ]
  },
  {
   "cell_type": "code",
   "execution_count": 30,
   "id": "aec602ef",
   "metadata": {},
   "outputs": [],
   "source": [
    "client = initialise_client(\"../../../credentials.json\")"
   ]
  },
  {
   "cell_type": "code",
   "execution_count": 31,
   "id": "91d0ac84",
   "metadata": {},
   "outputs": [],
   "source": [
    "known_text = \"You have no room to talk about it, since you've already admitted to barely even playing one.\\nThus, you have no basis for essentially every thing that you are saying.\\nYou can't say the games don't support that, nor can you say anything about WA2 or TV.\\nFighting for the sake of fighting is immature and wrong, so just quit it already.\\nYou're not here for a discussion-you're here to harass me and try to start a fight.\\nThe burden of finding proof is not on me.\\nYou're the one who is trying to challenge what is written in the articles.\\nThe games themselves support that spelling.\\nYour claims citing WA2 and TV were shot down, as was everything you have presented, so just go.\\nMore lies and insults from you, as expected.\\nYou haven't proved a thing, you're just grasping at straws.\\nThe 505 site is full of title errors, which makes it clear they just use basic capitalization for all titles.\\nAnd on the flipside, you have not done anything to prove their spelling wasn't an error, even though all the other titles on the site would suggest as much.\\nYou have yet to provide one logical reason why XSEED is wrong, and your whole\\nThe only reason you're here is to try and start trouble with me, and it's getting old.\\nYou know nothing about the games-you're just disagreeing for the sake of disagreeing.\\nAnd as for proof, you haven't posted a thing, whereas I have.\\nI've posted proof that 505 games incorrectly capitalizes games all the time, I've pointed out that it's made very clear in XF that the games cannot take place in parallel worlds\\nYou need to get over your psychotic need to argue with me and get involved in my life-it's rude and seriously creepy.\\nYou only show up to join arguments when I get involved with them, and you never contribute anything of any actual value, just lie and make nasty remarks.\\nIt's impossible for anyone to have a discussion when you're involved.\\nAnd you would know why it it pretty much impossible for the games to take place in parallel worlds.\\nI'm not going through this again with you.\\nI doubt you've ever even played this game.\\nYou're just gonna keep spouting absolute nonsense, just like you did the other time, so that no one can have any real discussion.\\nThat way, people will just get sick of it and give in to what you want.\\nAs for the worlds issue, no one can talk sense to one-sided people like you, who refuse to accept any wrong on their own part.\\nYou don't even know Japanese, so what is being said in that article is not clear to you, and even if you did by some chance know the language\\nGo play your games elsewhere, so the rest of us can have a serious discussion.\\nGo to the history of Wild ARMs 5 and see for yourself, or go to his talk page where we briefly discussed it.\"\n",
    "\n",
    "phrase = \" me, and it's getting old.\\n\"\n",
    "\n",
    "user_prompt = f\"\"\"\n",
    "<DOC>\n",
    "{known_text}\n",
    "</DOC>\n",
    "<NGRAM>\n",
    "{phrase}\n",
    "</NGRAM>\n",
    "\"\"\""
   ]
  },
  {
   "cell_type": "code",
   "execution_count": 47,
   "id": "741c7690",
   "metadata": {},
   "outputs": [],
   "source": [
    "with open(\"../../../prompts/exhaustive_constrained_ngram_paraphraser_prompt_JSON.txt\",\"r\") as f:\n",
    "    system_prompt = f.read()"
   ]
  },
  {
   "cell_type": "code",
   "execution_count": 74,
   "id": "e1ecaf95",
   "metadata": {},
   "outputs": [],
   "source": [
    "response = llm(\n",
    "    system_prompt,\n",
    "    user_prompt,\n",
    "    client,\n",
    "    model=\"gpt-4.1\",\n",
    "    max_tokens=5000,\n",
    "    temperature=0.7,\n",
    "    n=10,\n",
    "    response_format={ \"type\": \"json_object\" }\n",
    ")"
   ]
  },
  {
   "cell_type": "code",
   "execution_count": null,
   "id": "7cb82b8f",
   "metadata": {},
   "outputs": [],
   "source": [
    "def parse_paraphrases(response, phrase):\n",
    "    \n",
    "    paraphrase_list = []\n",
    "    for i in range(1, len(response.choices)):\n",
    "        content = response.choices[i].message.content\n",
    "        \n",
    "        try:\n",
    "            content_json = json.loads(content)\n",
    "            for para in content_json['paraphrases']:\n",
    "                if para != phrase:\n",
    "                    paraphrase_list.append(para)  \n",
    "        except:\n",
    "            pass\n",
    "        \n",
    "    unique_list = list(set(paraphrase_list))\n",
    "    \n",
    "    return unique_list"
   ]
  },
  {
   "cell_type": "code",
   "execution_count": 76,
   "id": "1442fb93",
   "metadata": {},
   "outputs": [
    {
     "data": {
      "text/plain": [
       "[' me, & it’s gettin’ old.',\n",
       " \" to me, and it's getting old.\",\n",
       " ' me, & it is getting old.',\n",
       " ' me, and it’s getting old.',\n",
       " ' me, & it’s getting old.',\n",
       " \" me and it's getting old.\",\n",
       " \" me, and its gettin' old.\",\n",
       " ' me, and it’s gettin’ old.',\n",
       " \" me, & it's gettin' old.\",\n",
       " \" me, and it's gettin' old.\",\n",
       " ' me, and it’s getting old',\n",
       " ' me, and its gettin’ old.',\n",
       " \" me, and it’s gettin' old.\",\n",
       " \" me, and it's getting old.\",\n",
       " ' me and it is getting old.',\n",
       " \" me, and it's gettin’ old.\",\n",
       " ' me, and it is getting old.',\n",
       " ' me, & its getting old.',\n",
       " \" me, & it's getting old.\",\n",
       " ' to me, and it is getting old.',\n",
       " ' me, and it is getting old',\n",
       " ' me, and it is gettin’ old.',\n",
       " \" me, & its gettin' old.\",\n",
       " \" me, and it is gettin' old.\",\n",
       " ' me, & its gettin’ old.',\n",
       " ' me, and its getting old.',\n",
       " \" me, and it's getting old\"]"
      ]
     },
     "execution_count": null,
     "metadata": {},
     "output_type": "execute_result"
    }
   ],
   "source": [
    "parse_paraphrases(response, phrase)"
   ]
  }
 ],
 "metadata": {
  "language_info": {
   "name": "python"
  }
 },
 "nbformat": 4,
 "nbformat_minor": 5
}
