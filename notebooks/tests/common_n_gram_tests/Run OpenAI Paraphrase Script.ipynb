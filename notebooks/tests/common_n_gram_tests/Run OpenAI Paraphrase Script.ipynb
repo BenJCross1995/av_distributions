{
 "cells": [
  {
   "cell_type": "code",
   "execution_count": null,
   "id": "7f891be7",
   "metadata": {},
   "outputs": [],
   "source": [
    "import os\n",
    "import sys\n",
    "import subprocess\n",
    "\n",
    "from from_root import from_root\n",
    "\n",
    "sys.path.insert(0, str(from_root(\"src\")))\n",
    "\n",
    "from utils import get_base_location\n",
    "from read_and_write_docs import read_jsonl"
   ]
  },
  {
   "cell_type": "code",
   "execution_count": null,
   "id": "8f465872",
   "metadata": {},
   "outputs": [],
   "source": [
    "\n",
    "corpus      = \"Wiki\"\n",
    "data_type   = \"training\"\n",
    "\n",
    "# Set NAS so can run on Windows laptop seamlessly\n",
    "nas_base_loc = get_base_location()\n",
    "\n",
    "known_loc = f\"{nas_base_loc}/datasets/author_verification/{data_type}/{corpus}/known_raw.jsonl\"\n",
    "unknown_loc = f\"{nas_base_loc}/datasets/author_verification/{data_type}/{corpus}/unknown_raw.jsonl\"\n",
    "metadata_loc = f\"{nas_base_loc}/datasets/author_verification/{data_type}/metadata.rds\"\n",
    "model_loc = f\"{nas_base_loc}/models/Qwen 2.5/Qwen2.5-0.5B-Instruct\"\n",
    "save_loc = f\"{nas_base_loc}/paraphrase examples\"\n",
    "\n",
    "corpus      = \"Wiki\"\n",
    "data_type   = \"training\"\n",
    "\n",
    "openai_model = \"gpt-4.1\"\n",
    "max_tokens   = 5000\n",
    "temperature  = 0.7\n",
    "n_samples    = 10\n",
    "\n",
    "script_loc = str(from_root(\"scripts\", \"run_openai_paraphrase_method.py\"))"
   ]
  },
  {
   "cell_type": "code",
   "execution_count": null,
   "id": "a33f446e",
   "metadata": {},
   "outputs": [],
   "source": [
    "# Load the pre-made problem datasets for speed\n",
    "problem_dataset_base = f\"{nas_base_loc}/datasets/author_verification/{data_type}/{corpus}\"\n",
    "problem_dataset_agg = read_jsonl(f\"{problem_dataset_base}/{corpus}_{data_type}_agg.jsonl\")"
   ]
  },
  {
   "cell_type": "code",
   "execution_count": null,
   "id": "42dbc3e8",
   "metadata": {},
   "outputs": [],
   "source": [
    "same_probs = problem_dataset_agg[problem_dataset_agg['known_author'] == problem_dataset_agg['unknown_author']].copy()\n",
    "same_probs.sort_values([\"highest_common_count\"], ascending=[False], inplace=True)\n",
    "same_probs[(same_probs['highest_common_count'] >= 3) & (same_probs['highest_common_count'] <= 10)].head(30)"
   ]
  },
  {
   "cell_type": "code",
   "execution_count": null,
   "id": "9f8eccc3",
   "metadata": {},
   "outputs": [],
   "source": [
    "diff_probs = problem_dataset_agg[problem_dataset_agg['known_author'] != problem_dataset_agg['unknown_author']].copy()\n",
    "diff_probs.sort_values([\"highest_common_count\"], ascending=[False], inplace=True)\n",
    "diff_probs[(diff_probs['highest_common_count'] >= 3) & (diff_probs['highest_common_count'] <= 10)].head(30)"
   ]
  },
  {
   "cell_type": "code",
   "execution_count": null,
   "id": "2652f949",
   "metadata": {},
   "outputs": [],
   "source": [
    "tests = {\n",
    "    \"test_01\": {\"known\": \"alienus_text_11\", \"unknown\": \"amalthea_text_5\"},\n",
    "    \"test_02\": {\"known\": \"david_shankbone_text_2\", \"unknown\": \"delicious_carbuncle_text_1\"},\n",
    "    \"test_03\": {\"known\": \"dennis_brown_text_12\", \"unknown\": \"dennis_brown_text_11\"},\n",
    "    \"test_04\": {\"known\": \"falcon9x5_text_4\", \"unknown\": \"falcon9x5_text_1\"}\n",
    "}"
   ]
  },
  {
   "cell_type": "code",
   "execution_count": null,
   "id": "60eac76d",
   "metadata": {},
   "outputs": [],
   "source": [
    "# sys.executable.replace(\"c:\\\\\", \"C:/\").replace(\"\\\\\", \"/\")"
   ]
  },
  {
   "cell_type": "code",
   "execution_count": null,
   "id": "02a4adbb",
   "metadata": {},
   "outputs": [],
   "source": [
    "# script_loc.replace(\"C:\\\\\", \"C:/\").replace(\"\\\\\", \"/\")"
   ]
  },
  {
   "cell_type": "code",
   "execution_count": null,
   "id": "4b4503ce",
   "metadata": {},
   "outputs": [],
   "source": [
    "env = dict(os.environ, PYTHONUNBUFFERED=\"1\")\n",
    "\n",
    "for test_num, entry in tests.items():\n",
    "\n",
    "    known_doc = entry['known']\n",
    "    unknown_doc = entry['unknown']\n",
    "    print(f\"Working on {test_num}: {known_doc} vs {unknown_doc}\")\n",
    "    \n",
    "    cmd = [\n",
    "        sys.executable.replace(\"c:\\\\\", \"C:/\").replace(\"\\\\\", \"/\"), \"-u\", script_loc.replace(\"C:\\\\\", \"C:/\").replace(\"\\\\\", \"/\"),\n",
    "        \"--known_loc\", known_loc,\n",
    "        \"--unknown_loc\", unknown_loc,\n",
    "        \"--metadata_loc\", metadata_loc,\n",
    "        \"--model_loc\", model_loc,\n",
    "        \"--save_loc\", save_loc,\n",
    "        \"--corpus\", corpus,\n",
    "        \"--data_type\", data_type,\n",
    "        \"--known_doc\", known_doc,\n",
    "        \"--unknown_doc\", unknown_doc,\n",
    "        \"--openai_model\", openai_model,\n",
    "        \"--max_tokens\", str(max_tokens),\n",
    "        \"--temperature\", str(temperature),\n",
    "        \"--n\", str(n_samples),\n",
    "    ]\n",
    "\n",
    "    subprocess.run(cmd, text=True, check=True)"
   ]
  }
 ],
 "metadata": {
  "language_info": {
   "name": "python"
  }
 },
 "nbformat": 4,
 "nbformat_minor": 5
}
