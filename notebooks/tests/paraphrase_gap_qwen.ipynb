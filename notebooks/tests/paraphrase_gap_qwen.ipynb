{
 "cells": [
  {
   "cell_type": "code",
   "execution_count": 1,
   "id": "3c819968",
   "metadata": {},
   "outputs": [],
   "source": [
    "import sys\n",
    "import os"
   ]
  },
  {
   "cell_type": "code",
   "execution_count": 2,
   "id": "8a0591bc",
   "metadata": {},
   "outputs": [],
   "source": [
    "sys.path.append(os.path.abspath('../../src'))\n",
    "\n",
    "from paraphrase_gap_qwen import generate_gap_candidates_until_saturation, GenerationConfig, SaturationConfig\n",
    "from tokenize_and_score import load_model\n",
    "from read_and_write_docs import read_jsonl"
   ]
  },
  {
   "cell_type": "code",
   "execution_count": 4,
   "id": "56fbb44b",
   "metadata": {},
   "outputs": [],
   "source": [
    "tok, model = load_model(\"/Volumes/BCross/models/Qwen 2.5/Qwen2.5-0.5B-Instruct\")"
   ]
  },
  {
   "cell_type": "code",
   "execution_count": 5,
   "id": "5b491339",
   "metadata": {},
   "outputs": [],
   "source": [
    "df = read_jsonl('/Volumes/BCross/datasets/author_verification/training/Wiki/known_corpus_split/142_196_88_228_text_3.jsonl')"
   ]
  },
  {
   "cell_type": "code",
   "execution_count": 6,
   "id": "0114bceb",
   "metadata": {},
   "outputs": [
    {
     "name": "stdout",
     "output_type": "stream",
     "text": [
      "However, it is worth noting that year after year, and notably since the 1979 revolution, Iran is becoming less of a 'Persian' nation, and more a nation of 'Iranians', with an identity that is evolving culturally, genetically, and politically.\n",
      "He is certainly the first to develop the formal ideas of temporal-modal logic.\n",
      "Unfortunately, there are a self-deluded few, who make the centric efforts to deny this.\n",
      "Preceding unsigned comment added by  talk\n",
      "The post above is complete an utter bullshit.\n",
      "The article needs revision, and has to stop reiterating the Western view that the cylinder is an insignificant artifact.\n",
      "The article needs to contribute more from sources, whom are critical of legitimacy of the notion of 'true' delusions.\n",
      "If a belief turns out to be true, than there may have been and quite likely, was a rational basis for a subjects beliefs.\n",
      "The part about his IQ being higher, is purely speculative.\n",
      "There has never been any reasonable evidence to suggest his IQ was higher than what it was assessed at.\n",
      "Furthermore, the IQ of person who is heavily affected by multiple learning disabilities, is clearly less relevant.\n",
      "In other words, Ottis toole was functionally via achievement less capable than even his 75 IQ, would suggest.\n",
      "Our colour is olive-brown but can be black and in rare cases similar to white but not the same.\n",
      "This however is found rarely and if, usually its found among people who immigrated to the Middle East such as Tsherkess people, Armenians, Assyrians, Arameans, Greeks, Kurds and some mixed ancestry people of the Levant.\n",
      "Most of so called Arab Americans come from this latter groups and are Christians and they battled hard in American courts for their whiteness in order to naturalize.\n"
     ]
    }
   ],
   "source": [
    "print(df.iloc[0, 5])"
   ]
  },
  {
   "cell_type": "code",
   "execution_count": 7,
   "id": "9e67e72d",
   "metadata": {},
   "outputs": [],
   "source": [
    "prefix = \"\"\"However, it is worth noting that year after year, and notably since the 1979 revolution, Iran is becoming less of a 'Persian' nation, and more a nation of 'Iranians', with an identity that is evolving culturally, genetically, and politically.\n",
    "He is certainly the first to develop the formal ideas of temporal-modal logic.\n",
    "Unfortunately, there are a self-deluded few, who make the centric efforts to deny this.\n",
    "Preceding unsigned comment added by  talk\n",
    "The post above is complete an utter bullshit.\n",
    "The article needs revision, and has to stop reiterating the Western view that the cylinder is an insignificant artifact.\n",
    "The article needs to contribute more from sources, whom are critical of legitimacy of the notion of 'true' delusions.\n",
    "If a belief turns out to be true, than there may have been and quite likely, was a rational basis for a subjects beliefs.\n",
    "The part about his IQ being higher, is purely speculative.\n",
    "There has never been any \"\"\"\n",
    "suffix = \"\"\" than what it was assessed at.\n",
    "Furthermore, the IQ of person who is heavily affected by multiple learning disabilities, is clearly less relevant.\n",
    "In other words, Ottis toole was functionally via achievement less capable than even his 75 IQ, would suggest.\n",
    "Our colour is olive-brown but can be black and in rare cases similar to white but not the same.\n",
    "This however is found rarely and if, usually its found among people who immigrated to the Middle East such as Tsherkess people, Armenians, Assyrians, Arameans, Greeks, Kurds and some mixed ancestry people of the Levant.\n",
    "Most of so called Arab Americans come from this latter groups and are Christians and they battled hard in American courts for their whiteness in order to naturalize.\"\"\"\n",
    "phrase = \"\"\"reasonable evidence to suggest his IQ was higher\"\"\""
   ]
  },
  {
   "cell_type": "code",
   "execution_count": 8,
   "id": "1b60b7a6",
   "metadata": {},
   "outputs": [],
   "source": [
    "gen_cfg = GenerationConfig(\n",
    "    do_sample=True,\n",
    "    num_beams=12,\n",
    "    num_return_sequences=12,\n",
    "    num_beam_groups=6,\n",
    "    diversity_penalty=0.7,\n",
    "    max_new_tokens=12\n",
    ")\n",
    "\n",
    "sat_cfg = SaturationConfig(\n",
    "    epsilon=0.03,\n",
    "    patience_rounds=2,\n",
    "    max_rounds=8,\n",
    "    batch_candidates=40\n",
    ")\n",
    "\n",
    "results = generate_gap_candidates_until_saturation(\n",
    "    tok,\n",
    "    model,\n",
    "    prefix,\n",
    "    suffix,\n",
    "    original_span=phrase,\n",
    "    gen_cfg=gen_cfg,\n",
    "    sat_cfg=sat_cfg\n",
    ")"
   ]
  },
  {
   "cell_type": "code",
   "execution_count": 9,
   "id": "4a80b72e",
   "metadata": {},
   "outputs": [
    {
     "data": {
      "text/plain": [
       "{'candidates': [Candidate(text='Based on the information provided in the given text, which', total_logprob=-25.934548776131123, token_count=11),\n",
       "  Candidate(text='What is the main idea of the passage? The passage', total_logprob=-31.37286652624607, token_count=11),\n",
       "  Candidate(text='What was this article about? This article discusses the IQ', total_logprob=-38.763794710393995, token_count=11),\n",
       "  Candidate(text=\"Did you read or listen to all this? I'm\", total_logprob=-45.5365237146616, token_count=11),\n",
       "  Candidate(text=\"I think the author's argument is flawed because he relies\", total_logprob=-47.66369104385376, token_count=11),\n",
       "  Candidate(text='It is completely without logical sense that there should be a', total_logprob=-48.12420396506786, token_count=11),\n",
       "  Candidate(text='than those who were born into the family of the country of', total_logprob=-51.31312048435211, token_count=12),\n",
       "  Candidate(text=\"It's time we all stop pretending that our identity as\", total_logprob=-52.08723556995392, token_count=11),\n",
       "  Candidate(text='I had to write something before I could respond to this', total_logprob=-55.23369634151459, token_count=11),\n",
       "  Candidate(text='It seems that being Jewish or Christian was sufficient to prove', total_logprob=-55.74272358417511, token_count=11),\n",
       "  Candidate(text='Most of the color in the question appears to be brown', total_logprob=-57.65423110127449, token_count=11),\n",
       "  Candidate(text=\"It seems the author believes that Ottis Toole's\", total_logprob=-65.51292264461517, token_count=11)],\n",
       " 'Z': 1.00434947438967,\n",
       " 'rounds': 2,\n",
       " 'stopped_reason': 'no new candidates found in this round',\n",
       " 'best_logprob': -25.934548776131123}"
      ]
     },
     "execution_count": null,
     "metadata": {},
     "output_type": "execute_result"
    }
   ],
   "source": [
    "results"
   ]
  },
  {
   "cell_type": "code",
   "execution_count": 10,
   "id": "beb61491",
   "metadata": {},
   "outputs": [
    {
     "name": "stdout",
     "output_type": "stream",
     "text": [
      "Based on the information provided in the given text, which -25.934548776131123 11\n",
      "What is the main idea of the passage? The passage -31.37286652624607 11\n",
      "What was this article about? This article discusses the IQ -38.763794710393995 11\n",
      "Did you read or listen to all this? I'm -45.5365237146616 11\n",
      "I think the author's argument is flawed because he relies -47.66369104385376 11\n",
      "It is completely without logical sense that there should be a -48.12420396506786 11\n",
      "than those who were born into the family of the country of -51.31312048435211 12\n",
      "It's time we all stop pretending that our identity as -52.08723556995392 11\n",
      "I had to write something before I could respond to this -55.23369634151459 11\n",
      "It seems that being Jewish or Christian was sufficient to prove -55.74272358417511 11\n",
      "Most of the color in the question appears to be brown -57.65423110127449 11\n",
      "It seems the author believes that Ottis Toole's -65.51292264461517 11\n"
     ]
    }
   ],
   "source": [
    "for c in results[\"candidates\"][:20]:\n",
    "    print(c.text, c.total_logprob, c.token_count)"
   ]
  }
 ],
 "metadata": {
  "language_info": {
   "name": "python"
  }
 },
 "nbformat": 4,
 "nbformat_minor": 5
}
