{
 "cells": [
  {
   "cell_type": "code",
   "execution_count": 88,
   "id": "56193795-a5b8-4ae3-bb12-6de47df0581e",
   "metadata": {},
   "outputs": [],
   "source": [
    "import glob\n",
    "import sys\n",
    "import os\n",
    "\n",
    "import matplotlib.pyplot as plt\n",
    "import pandas as pd\n",
    "\n",
    "from sklearn.metrics import roc_curve, auc, f1_score, confusion_matrix, accuracy_score"
   ]
  },
  {
   "cell_type": "code",
   "execution_count": 89,
   "id": "8b8b2807-135e-464a-9767-ec13337511bf",
   "metadata": {},
   "outputs": [],
   "source": [
    "sys.path.append(os.path.abspath('../src'))\n",
    "\n",
    "from read_and_write_docs import read_jsonl, write_jsonl, read_rds\n",
    "from performance import performance, performance_paraphrase"
   ]
  },
  {
   "cell_type": "markdown",
   "id": "3613dbfe-673a-4377-9bda-a8c9b8e97a26",
   "metadata": {},
   "source": [
    "# Paraphrase V2\n",
    "\n",
    "Paraphrase v2 is the LambdaG code in its traditional form where we lump all of the paraphrased sentences together and randomly sample them for the same number as in the known document.\n",
    "\n",
    "Accidentally kept the r at 100"
   ]
  },
  {
   "cell_type": "code",
   "execution_count": 90,
   "id": "600190dd-2585-4e8b-ac81-295c302bf10a",
   "metadata": {},
   "outputs": [],
   "source": [
    "v2_dir = \"/Volumes/BCross/datasets/author_verification/lambda_g_results/paraphrase_v2/Wiki-training\""
   ]
  },
  {
   "cell_type": "code",
   "execution_count": 93,
   "id": "be2da4d8-1ca3-4750-b364-8882b0a064fe",
   "metadata": {},
   "outputs": [
    {
     "name": "stdout",
     "output_type": "stream",
     "text": [
      "['/Volumes/BCross/datasets/author_verification/lambda_g_results/paraphrase_v2/Wiki-training/gen_t_0.7.jsonl', '/Volumes/BCross/datasets/author_verification/lambda_g_results/paraphrase_v2/Wiki-training/gen_t_1.5.jsonl', '/Volumes/BCross/datasets/author_verification/lambda_g_results/paraphrase_v2/Wiki-training/sim_t_0.7.jsonl', '/Volumes/BCross/datasets/author_verification/lambda_g_results/paraphrase_v2/Wiki-training/sim_t_1.0.jsonl', '/Volumes/BCross/datasets/author_verification/lambda_g_results/paraphrase_v2/Wiki-training/sim_t_1.2.jsonl', '/Volumes/BCross/datasets/author_verification/lambda_g_results/paraphrase_v2/Wiki-training/sim_t_1.5.jsonl', '/Volumes/BCross/datasets/author_verification/lambda_g_results/paraphrase_v2/Wiki-training/gen_t_1.2.jsonl']\n"
     ]
    }
   ],
   "source": [
    "import glob\n",
    "\n",
    "\n",
    "jsonl_files = glob.glob(f\"{v2_dir}/*.jsonl\")\n",
    "sorted(jsonl_files)\n",
    "\n",
    "print(jsonl_files)"
   ]
  },
  {
   "cell_type": "code",
   "execution_count": 94,
   "id": "4220b754-4a5d-4e63-8333-0b96edaa5e27",
   "metadata": {},
   "outputs": [],
   "source": [
    "data = read_jsonl(jsonl_files[-1])"
   ]
  },
  {
   "cell_type": "code",
   "execution_count": 79,
   "id": "59f377a7-29de-4233-b33f-b61d4344dd55",
   "metadata": {},
   "outputs": [
    {
     "name": "stdout",
     "output_type": "stream",
     "text": [
      "The history saving thread hit an unexpected error (OperationalError('attempt to write a readonly database')).History will not be written to the database.\n"
     ]
    }
   ],
   "source": [
    "data = read_jsonl('/Volumes/BCross/datasets/author_verification/training/Wiki/Qwen_2.5_1.5B/gen_t_1.5_tp_0.9/lambda_g_results.jsonl')"
   ]
  },
  {
   "cell_type": "code",
   "execution_count": 95,
   "id": "f3a5e900-fc67-459e-82bf-09b79d89c054",
   "metadata": {},
   "outputs": [],
   "source": [
    "grouped_data = (\n",
    "    data\n",
    "    .groupby(['problem', 'target'], as_index=False)\n",
    "    ['score']\n",
    "    .mean()\n",
    ")"
   ]
  },
  {
   "cell_type": "code",
   "execution_count": 96,
   "id": "57d524a6-4e06-4ee6-9bc8-6e67bcfca4b8",
   "metadata": {},
   "outputs": [
    {
     "data": {
      "text/html": [
       "<div>\n",
       "<style scoped>\n",
       "    .dataframe tbody tr th:only-of-type {\n",
       "        vertical-align: middle;\n",
       "    }\n",
       "\n",
       "    .dataframe tbody tr th {\n",
       "        vertical-align: top;\n",
       "    }\n",
       "\n",
       "    .dataframe thead th {\n",
       "        text-align: right;\n",
       "    }\n",
       "</style>\n",
       "<table border=\"1\" class=\"dataframe\">\n",
       "  <thead>\n",
       "    <tr style=\"text-align: right;\">\n",
       "      <th></th>\n",
       "      <th>problem</th>\n",
       "      <th>target</th>\n",
       "      <th>score</th>\n",
       "    </tr>\n",
       "  </thead>\n",
       "  <tbody>\n",
       "    <tr>\n",
       "      <th>0</th>\n",
       "      <td>142.196.88.228 vs 142.196.88.228</td>\n",
       "      <td>True</td>\n",
       "      <td>57208.327733</td>\n",
       "    </tr>\n",
       "    <tr>\n",
       "      <th>1</th>\n",
       "      <td>142.196.88.228 vs Aban1313</td>\n",
       "      <td>False</td>\n",
       "      <td>35437.992193</td>\n",
       "    </tr>\n",
       "    <tr>\n",
       "      <th>2</th>\n",
       "      <td>A_Man_In_Black vs A_Man_In_Black</td>\n",
       "      <td>True</td>\n",
       "      <td>46709.178468</td>\n",
       "    </tr>\n",
       "    <tr>\n",
       "      <th>3</th>\n",
       "      <td>A_Man_In_Black vs Bankhallbretherton</td>\n",
       "      <td>False</td>\n",
       "      <td>22239.668440</td>\n",
       "    </tr>\n",
       "    <tr>\n",
       "      <th>4</th>\n",
       "      <td>Aban1313 vs Aban1313</td>\n",
       "      <td>True</td>\n",
       "      <td>44237.091032</td>\n",
       "    </tr>\n",
       "    <tr>\n",
       "      <th>...</th>\n",
       "      <td>...</td>\n",
       "      <td>...</td>\n",
       "      <td>...</td>\n",
       "    </tr>\n",
       "    <tr>\n",
       "      <th>145</th>\n",
       "      <td>Haymaker vs HeadleyDown</td>\n",
       "      <td>False</td>\n",
       "      <td>40934.073060</td>\n",
       "    </tr>\n",
       "    <tr>\n",
       "      <th>146</th>\n",
       "      <td>HeadleyDown vs HeadleyDown</td>\n",
       "      <td>True</td>\n",
       "      <td>54255.947065</td>\n",
       "    </tr>\n",
       "    <tr>\n",
       "      <th>147</th>\n",
       "      <td>HeadleyDown vs Hipocrite</td>\n",
       "      <td>False</td>\n",
       "      <td>30600.292670</td>\n",
       "    </tr>\n",
       "    <tr>\n",
       "      <th>148</th>\n",
       "      <td>Hipocrite vs Hipocrite</td>\n",
       "      <td>True</td>\n",
       "      <td>32027.258188</td>\n",
       "    </tr>\n",
       "    <tr>\n",
       "      <th>149</th>\n",
       "      <td>Hipocrite vs Hodja_Nasreddin</td>\n",
       "      <td>False</td>\n",
       "      <td>23201.480848</td>\n",
       "    </tr>\n",
       "  </tbody>\n",
       "</table>\n",
       "<p>150 rows × 3 columns</p>\n",
       "</div>"
      ],
      "text/plain": [
       "                                  problem  target         score\n",
       "0        142.196.88.228 vs 142.196.88.228    True  57208.327733\n",
       "1              142.196.88.228 vs Aban1313   False  35437.992193\n",
       "2        A_Man_In_Black vs A_Man_In_Black    True  46709.178468\n",
       "3    A_Man_In_Black vs Bankhallbretherton   False  22239.668440\n",
       "4                    Aban1313 vs Aban1313    True  44237.091032\n",
       "..                                    ...     ...           ...\n",
       "145               Haymaker vs HeadleyDown   False  40934.073060\n",
       "146            HeadleyDown vs HeadleyDown    True  54255.947065\n",
       "147              HeadleyDown vs Hipocrite   False  30600.292670\n",
       "148                Hipocrite vs Hipocrite    True  32027.258188\n",
       "149          Hipocrite vs Hodja_Nasreddin   False  23201.480848\n",
       "\n",
       "[150 rows x 3 columns]"
      ]
     },
     "execution_count": 96,
     "metadata": {},
     "output_type": "execute_result"
    }
   ],
   "source": [
    "grouped_data"
   ]
  },
  {
   "cell_type": "code",
   "execution_count": 97,
   "id": "fe817555-7e42-4e70-93be-d3f38ff14d42",
   "metadata": {},
   "outputs": [
    {
     "data": {
      "image/png": "[encoded data removed]",
      "text/plain": [
       "<Figure size 640x480 with 1 Axes>"
      ]
     },
     "metadata": {},
     "output_type": "display_data"
    }
   ],
   "source": [
    "# Plot histogram of scores by target\n",
    "plt.figure()\n",
    "grouped_data[grouped_data['target'] == True]['score'].hist(alpha=0.7, label='Same Author')\n",
    "grouped_data[grouped_data['target'] == False]['score'].hist(alpha=0.7, label='Different Authors')\n",
    "plt.title('Score Distribution by True/False Author Match')\n",
    "plt.xlabel('Log Likelihood Ratio Score')\n",
    "plt.ylabel('Count')\n",
    "plt.legend()\n",
    "plt.tight_layout()\n",
    "plt.show()"
   ]
  },
  {
   "cell_type": "code",
   "execution_count": 98,
   "id": "822f0bfa-ec4f-47fe-85b2-bb78d505e4f4",
   "metadata": {},
   "outputs": [
    {
     "data": {
      "image/png": "[encoded data removed]",
      "text/plain": [
       "<Figure size 640x480 with 1 Axes>"
      ]
     },
     "metadata": {},
     "output_type": "display_data"
    }
   ],
   "source": [
    "# Compute ROC curve and AUC\n",
    "fpr, tpr, thresholds = roc_curve(grouped_data['target'], grouped_data['score'])\n",
    "roc_auc = auc(fpr, tpr)\n",
    "\n",
    "# Determine best threshold (Youden's J statistic)\n",
    "youden_j = tpr - fpr\n",
    "best_idx = youden_j.argmax()\n",
    "best_threshold = thresholds[best_idx]\n",
    "\n",
    "# Compute metrics at best threshold\n",
    "preds = grouped_data['score'] >= best_threshold\n",
    "f1 = f1_score(grouped_data['target'], preds)\n",
    "accuracy = accuracy_score(grouped_data['target'], preds)\n",
    "cm = confusion_matrix(grouped_data['target'], preds)\n",
    "cm_df = pd.DataFrame(cm, index=['Actual False', 'Actual True'], columns=['Predicted False', 'Predicted True'])\n",
    "\n",
    "# Plot ROC curve\n",
    "plt.figure()\n",
    "plt.plot(fpr, tpr, label=f'ROC curve (AUC = {roc_auc:.2f})')\n",
    "plt.scatter(fpr[best_idx], tpr[best_idx], marker='o', label=f'Best Threshold = {best_threshold:.1f}')\n",
    "plt.plot([0, 1], [0, 1], linestyle='--')  # Diagonal\n",
    "plt.title('ROC Curve')\n",
    "plt.xlabel('False Positive Rate')\n",
    "plt.ylabel('True Positive Rate')\n",
    "plt.legend()\n",
    "plt.tight_layout()\n",
    "plt.show()"
   ]
  },
  {
   "cell_type": "code",
   "execution_count": 99,
   "id": "31c15ed4-82a9-46c4-a471-8bdfab8119e8",
   "metadata": {},
   "outputs": [
    {
     "name": "stdout",
     "output_type": "stream",
     "text": [
      "Optimal Threshold (Youden's J): 39337.865\n",
      "AUC: 0.727\n",
      "F1 Score: 0.711\n",
      "Accuracy: 0.713\n"
     ]
    }
   ],
   "source": [
    "# Display metrics and confusion matrix\n",
    "print(f\"Optimal Threshold (Youden's J): {best_threshold:.3f}\")\n",
    "print(f\"AUC: {roc_auc:.3f}\")\n",
    "print(f\"F1 Score: {f1:.3f}\")\n",
    "print(f\"Accuracy: {accuracy:.3f}\")"
   ]
  },
  {
   "cell_type": "code",
   "execution_count": 100,
   "id": "dfb68b7f-31db-44a5-a76e-fae4a095f1b7",
   "metadata": {},
   "outputs": [
    {
     "data": {
      "text/html": [
       "<div>\n",
       "<style scoped>\n",
       "    .dataframe tbody tr th:only-of-type {\n",
       "        vertical-align: middle;\n",
       "    }\n",
       "\n",
       "    .dataframe tbody tr th {\n",
       "        vertical-align: top;\n",
       "    }\n",
       "\n",
       "    .dataframe thead th {\n",
       "        text-align: right;\n",
       "    }\n",
       "</style>\n",
       "<table border=\"1\" class=\"dataframe\">\n",
       "  <thead>\n",
       "    <tr style=\"text-align: right;\">\n",
       "      <th></th>\n",
       "      <th>Predicted False</th>\n",
       "      <th>Predicted True</th>\n",
       "    </tr>\n",
       "  </thead>\n",
       "  <tbody>\n",
       "    <tr>\n",
       "      <th>Actual False</th>\n",
       "      <td>54</td>\n",
       "      <td>21</td>\n",
       "    </tr>\n",
       "    <tr>\n",
       "      <th>Actual True</th>\n",
       "      <td>22</td>\n",
       "      <td>53</td>\n",
       "    </tr>\n",
       "  </tbody>\n",
       "</table>\n",
       "</div>"
      ],
      "text/plain": [
       "              Predicted False  Predicted True\n",
       "Actual False               54              21\n",
       "Actual True                22              53"
      ]
     },
     "execution_count": 100,
     "metadata": {},
     "output_type": "execute_result"
    }
   ],
   "source": [
    "cm_df"
   ]
  },
  {
   "cell_type": "code",
   "execution_count": 101,
   "id": "86e5ceec-2860-469e-954a-0515a075f04a",
   "metadata": {},
   "outputs": [
    {
     "data": {
      "text/html": [
       "<div>\n",
       "<style scoped>\n",
       "    .dataframe tbody tr th:only-of-type {\n",
       "        vertical-align: middle;\n",
       "    }\n",
       "\n",
       "    .dataframe tbody tr th {\n",
       "        vertical-align: top;\n",
       "    }\n",
       "\n",
       "    .dataframe thead th {\n",
       "        text-align: right;\n",
       "    }\n",
       "</style>\n",
       "<table border=\"1\" class=\"dataframe\">\n",
       "  <thead>\n",
       "    <tr style=\"text-align: right;\">\n",
       "      <th></th>\n",
       "      <th>corpus</th>\n",
       "      <th>Cllr</th>\n",
       "      <th>Cllr_min</th>\n",
       "      <th>EER</th>\n",
       "      <th>Mean_TRUE_LLR</th>\n",
       "      <th>Mean_FALSE_LLR</th>\n",
       "      <th>TRUE_trials</th>\n",
       "      <th>FALSE_trials</th>\n",
       "      <th>AUC</th>\n",
       "      <th>Balanced_Accuracy</th>\n",
       "      <th>Precision</th>\n",
       "      <th>Recall</th>\n",
       "      <th>F1</th>\n",
       "      <th>TP</th>\n",
       "      <th>FP</th>\n",
       "      <th>FN</th>\n",
       "      <th>TN</th>\n",
       "    </tr>\n",
       "  </thead>\n",
       "  <tbody>\n",
       "    <tr>\n",
       "      <th>0</th>\n",
       "      <td>Wiki-training</td>\n",
       "      <td>0.90451</td>\n",
       "      <td>0.90451</td>\n",
       "      <td>0.32</td>\n",
       "      <td>0.145338</td>\n",
       "      <td>-0.132017</td>\n",
       "      <td>75</td>\n",
       "      <td>75</td>\n",
       "      <td>0.713244</td>\n",
       "      <td>0.686667</td>\n",
       "      <td>0.684211</td>\n",
       "      <td>0.693333</td>\n",
       "      <td>0.688742</td>\n",
       "      <td>52</td>\n",
       "      <td>24</td>\n",
       "      <td>23</td>\n",
       "      <td>51</td>\n",
       "    </tr>\n",
       "  </tbody>\n",
       "</table>\n",
       "</div>"
      ],
      "text/plain": [
       "          corpus     Cllr  Cllr_min   EER  Mean_TRUE_LLR  Mean_FALSE_LLR  \\\n",
       "0  Wiki-training  0.90451   0.90451  0.32       0.145338       -0.132017   \n",
       "\n",
       "   TRUE_trials  FALSE_trials       AUC  Balanced_Accuracy  Precision  \\\n",
       "0           75            75  0.713244           0.686667   0.684211   \n",
       "\n",
       "     Recall        F1  TP  FP  FN  TN  \n",
       "0  0.693333  0.688742  52  24  23  51  "
      ]
     },
     "execution_count": 101,
     "metadata": {},
     "output_type": "execute_result"
    }
   ],
   "source": [
    "score_col = 'score'\n",
    "target_col = 'target'\n",
    "performance(grouped_data,\n",
    "            score_col,\n",
    "            target_col,\n",
    "            additional_metadata={\n",
    "                'corpus': \"Wiki-training\"\n",
    "            })"
   ]
  },
  {
   "cell_type": "code",
   "execution_count": 102,
   "id": "9bd428d2-1af2-4734-823c-6671a3be86e0",
   "metadata": {},
   "outputs": [
    {
     "data": {
      "text/html": [
       "<div>\n",
       "<style scoped>\n",
       "    .dataframe tbody tr th:only-of-type {\n",
       "        vertical-align: middle;\n",
       "    }\n",
       "\n",
       "    .dataframe tbody tr th {\n",
       "        vertical-align: top;\n",
       "    }\n",
       "\n",
       "    .dataframe thead th {\n",
       "        text-align: right;\n",
       "    }\n",
       "</style>\n",
       "<table border=\"1\" class=\"dataframe\">\n",
       "  <thead>\n",
       "    <tr style=\"text-align: right;\">\n",
       "      <th></th>\n",
       "      <th>corpus</th>\n",
       "      <th>Cllr</th>\n",
       "      <th>Cllr_min</th>\n",
       "      <th>EER</th>\n",
       "      <th>Mean_TRUE_LLR</th>\n",
       "      <th>Mean_FALSE_LLR</th>\n",
       "      <th>TRUE_trials</th>\n",
       "      <th>FALSE_trials</th>\n",
       "      <th>AUC</th>\n",
       "      <th>Balanced_Accuracy</th>\n",
       "      <th>Precision</th>\n",
       "      <th>Recall</th>\n",
       "      <th>F1</th>\n",
       "      <th>TP</th>\n",
       "      <th>FP</th>\n",
       "      <th>FN</th>\n",
       "      <th>TN</th>\n",
       "    </tr>\n",
       "  </thead>\n",
       "  <tbody>\n",
       "    <tr>\n",
       "      <th>0</th>\n",
       "      <td>Wiki-training</td>\n",
       "      <td>0.904458</td>\n",
       "      <td>0.904458</td>\n",
       "      <td>0.32</td>\n",
       "      <td>0.14547</td>\n",
       "      <td>-0.131958</td>\n",
       "      <td>75</td>\n",
       "      <td>75</td>\n",
       "      <td>0.713067</td>\n",
       "      <td>0.686667</td>\n",
       "      <td>0.684211</td>\n",
       "      <td>0.693333</td>\n",
       "      <td>0.688742</td>\n",
       "      <td>52</td>\n",
       "      <td>24</td>\n",
       "      <td>23</td>\n",
       "      <td>51</td>\n",
       "    </tr>\n",
       "  </tbody>\n",
       "</table>\n",
       "</div>"
      ],
      "text/plain": [
       "          corpus      Cllr  Cllr_min   EER  Mean_TRUE_LLR  Mean_FALSE_LLR  \\\n",
       "0  Wiki-training  0.904458  0.904458  0.32        0.14547       -0.131958   \n",
       "\n",
       "   TRUE_trials  FALSE_trials       AUC  Balanced_Accuracy  Precision  \\\n",
       "0           75            75  0.713067           0.686667   0.684211   \n",
       "\n",
       "     Recall        F1  TP  FP  FN  TN  \n",
       "0  0.693333  0.688742  52  24  23  51  "
      ]
     },
     "execution_count": 102,
     "metadata": {},
     "output_type": "execute_result"
    }
   ],
   "source": [
    "score_col = 'score'\n",
    "target_col = 'target'\n",
    "performance_paraphrase(grouped_data,\n",
    "            score_col,\n",
    "            target_col,\n",
    "            additional_metadata={\n",
    "                'corpus': \"Wiki-training\"\n",
    "            })"
   ]
  },
  {
   "cell_type": "code",
   "execution_count": null,
   "id": "a746b124-018f-474a-a5af-5f34576ce9a2",
   "metadata": {},
   "outputs": [],
   "source": []
  }
 ],
 "metadata": {
  "kernelspec": {
   "display_name": "av_dists",
   "language": "python",
   "name": "my_venv"
  },
  "language_info": {
   "codemirror_mode": {
    "name": "ipython",
    "version": 3
   },
   "file_extension": ".py",
   "mimetype": "text/x-python",
   "name": "python",
   "nbconvert_exporter": "python",
   "pygments_lexer": "ipython3",
   "version": "3.11.7"
  }
 },
 "nbformat": 4,
 "nbformat_minor": 5
}
