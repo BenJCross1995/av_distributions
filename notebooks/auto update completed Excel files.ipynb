{
 "cells": [
  {
   "cell_type": "code",
   "execution_count": 27,
   "id": "0546c1aa",
   "metadata": {},
   "outputs": [],
   "source": [
    "import sys\n",
    "\n",
    "from from_root import from_root\n",
    "from pathlib import Path"
   ]
  },
  {
   "cell_type": "code",
   "execution_count": 28,
   "id": "77278ac7",
   "metadata": {},
   "outputs": [],
   "source": [
    "sys.path.insert(0, str(from_root(\"src\")))\n",
    "\n",
    "from read_and_write_docs import read_completed_excel_result\n",
    "from excel_functions import create_excel_template"
   ]
  },
  {
   "cell_type": "markdown",
   "id": "8926035c",
   "metadata": {},
   "source": [
    "## Convert Single Document"
   ]
  },
  {
   "cell_type": "code",
   "execution_count": 29,
   "id": "bdffc813",
   "metadata": {},
   "outputs": [],
   "source": [
    "excel_path = '/Volumes/BCross/paraphrase examples/Wiki-test-gpt-4-1-v2/hootmag_text_12 vs hootmag_text_13.xlsx'"
   ]
  },
  {
   "cell_type": "code",
   "execution_count": 30,
   "id": "81d229ed",
   "metadata": {},
   "outputs": [],
   "source": [
    "data = read_completed_excel_result(excel_path)"
   ]
  },
  {
   "cell_type": "code",
   "execution_count": 31,
   "id": "e271a848",
   "metadata": {},
   "outputs": [],
   "source": [
    "# create_excel_template(\n",
    "#     known=data['known'].drop(columns=['include_phrase']),\n",
    "#     unknown=data['unknown'].drop(columns=['include_phrase']),\n",
    "#     no_context=data['no_context'],\n",
    "#     metadata=data['metadata'],\n",
    "#     docs=data['docs'],\n",
    "#     path=excel_path,\n",
    "#     known_sheet = \"known\",\n",
    "#     unknown_sheet = \"unknown\",\n",
    "#     nc_sheet = \"no context\",\n",
    "#     metadata_sheet = \"metadata\",\n",
    "#     docs_sheet = \"docs\",\n",
    "#     llr_sheet = \"LLR\",\n",
    "#     use_xlookup = False\n",
    "# )"
   ]
  },
  {
   "cell_type": "markdown",
   "id": "decc587f",
   "metadata": {},
   "source": [
    "## Convert Multiple Files"
   ]
  },
  {
   "cell_type": "code",
   "execution_count": 32,
   "id": "0d16f25d",
   "metadata": {},
   "outputs": [
    {
     "name": "stdout",
     "output_type": "stream",
     "text": [
      "Processing: hootmag_text_12 vs hootmag_text_13.xlsx\n",
      "  ✓ Wrote: /Volumes/BCross/paraphrase examples/Wiki-test-gpt-4-1-v2/hootmag_text_12 vs hootmag_text_13.xlsx\n",
      "Processing: icarus3_text_1 vs icarus3_text_4.xlsx\n",
      "  ✓ Wrote: /Volumes/BCross/paraphrase examples/Wiki-test-gpt-4-1-v2/icarus3_text_1 vs icarus3_text_4.xlsx\n",
      "Processing: icarus3_text_2 vs icarus3_text_4.xlsx\n",
      "  ✓ Wrote: /Volumes/BCross/paraphrase examples/Wiki-test-gpt-4-1-v2/icarus3_text_2 vs icarus3_text_4.xlsx\n",
      "Processing: icarus3_text_3 vs icarus3_text_4.xlsx\n",
      "  ✓ Wrote: /Volumes/BCross/paraphrase examples/Wiki-test-gpt-4-1-v2/icarus3_text_3 vs icarus3_text_4.xlsx\n",
      "Processing: ivoshandor_text_2 vs jasper_deng_text_4.xlsx\n",
      "  ✓ Wrote: /Volumes/BCross/paraphrase examples/Wiki-test-gpt-4-1-v2/ivoshandor_text_2 vs jasper_deng_text_4.xlsx\n",
      "Processing: ivoshandor_text_4 vs jasper_deng_text_4.xlsx\n",
      "  ✓ Wrote: /Volumes/BCross/paraphrase examples/Wiki-test-gpt-4-1-v2/ivoshandor_text_4 vs jasper_deng_text_4.xlsx\n",
      "Processing: ivoshandor_text_5 vs jasper_deng_text_4.xlsx\n",
      "  ✓ Wrote: /Volumes/BCross/paraphrase examples/Wiki-test-gpt-4-1-v2/ivoshandor_text_5 vs jasper_deng_text_4.xlsx\n",
      "Processing: jbmurray_text_2 vs jc37_text_4.xlsx\n",
      "  ✓ Wrote: /Volumes/BCross/paraphrase examples/Wiki-test-gpt-4-1-v2/jbmurray_text_2 vs jc37_text_4.xlsx\n",
      "Processing: jbmurray_text_4 vs jc37_text_4.xlsx\n",
      "  ✓ Wrote: /Volumes/BCross/paraphrase examples/Wiki-test-gpt-4-1-v2/jbmurray_text_4 vs jc37_text_4.xlsx\n",
      "Processing: jbmurray_text_5 vs jc37_text_4.xlsx\n",
      "  ✓ Wrote: /Volumes/BCross/paraphrase examples/Wiki-test-gpt-4-1-v2/jbmurray_text_5 vs jc37_text_4.xlsx\n",
      "Processing: lear_21_text_1 vs lear_21_text_3.xlsx\n",
      "  ✓ Wrote: /Volumes/BCross/paraphrase examples/Wiki-test-gpt-4-1-v2/lear_21_text_1 vs lear_21_text_3.xlsx\n",
      "Processing: lear_21_text_2 vs lear_21_text_3.xlsx\n",
      "  ✓ Wrote: /Volumes/BCross/paraphrase examples/Wiki-test-gpt-4-1-v2/lear_21_text_2 vs lear_21_text_3.xlsx\n",
      "Processing: lear_21_text_5 vs lear_21_text_3.xlsx\n",
      "  ✓ Wrote: /Volumes/BCross/paraphrase examples/Wiki-test-gpt-4-1-v2/lear_21_text_5 vs lear_21_text_3.xlsx\n",
      "Processing: mathsci_text_11 vs maunus_text_1.xlsx\n",
      "  ✓ Wrote: /Volumes/BCross/paraphrase examples/Wiki-test-gpt-4-1-v2/mathsci_text_11 vs maunus_text_1.xlsx\n",
      "Processing: mathsci_text_2 vs maunus_text_1.xlsx\n",
      "  ✓ Wrote: /Volumes/BCross/paraphrase examples/Wiki-test-gpt-4-1-v2/mathsci_text_2 vs maunus_text_1.xlsx\n",
      "Processing: mathsci_text_3 vs maunus_text_1.xlsx\n",
      "  ✓ Wrote: /Volumes/BCross/paraphrase examples/Wiki-test-gpt-4-1-v2/mathsci_text_3 vs maunus_text_1.xlsx\n",
      "Processing: rjecina_text_1 vs rjecina_text_11.xlsx\n",
      "  ✓ Wrote: /Volumes/BCross/paraphrase examples/Wiki-test-gpt-4-1-v2/rjecina_text_1 vs rjecina_text_11.xlsx\n",
      "Processing: rjecina_text_10 vs rjecina_text_11.xlsx\n",
      "  ✓ Wrote: /Volumes/BCross/paraphrase examples/Wiki-test-gpt-4-1-v2/rjecina_text_10 vs rjecina_text_11.xlsx\n",
      "Processing: rjecina_text_13 vs rjecina_text_11.xlsx\n",
      "  ✓ Wrote: /Volumes/BCross/paraphrase examples/Wiki-test-gpt-4-1-v2/rjecina_text_13 vs rjecina_text_11.xlsx\n",
      "Processing: u21980_text_1 vs updown_text_3.xlsx\n",
      "  ✓ Wrote: /Volumes/BCross/paraphrase examples/Wiki-test-gpt-4-1-v2/u21980_text_1 vs updown_text_3.xlsx\n",
      "Processing: u21980_text_3 vs updown_text_3.xlsx\n",
      "  ✓ Wrote: /Volumes/BCross/paraphrase examples/Wiki-test-gpt-4-1-v2/u21980_text_3 vs updown_text_3.xlsx\n",
      "Processing: u21980_text_4 vs updown_text_3.xlsx\n",
      "  ✓ Wrote: /Volumes/BCross/paraphrase examples/Wiki-test-gpt-4-1-v2/u21980_text_4 vs updown_text_3.xlsx\n"
     ]
    }
   ],
   "source": [
    "save_dir = Path('/Volumes/BCross/paraphrase examples/Wiki-test-gpt-4-1-v2')\n",
    "\n",
    "for excel_path in sorted(save_dir.glob(\"*.xlsx\")):\n",
    "    if excel_path.name.startswith(\"~$\"):\n",
    "        continue  # skip Excel temp/lock files\n",
    "\n",
    "\n",
    "    print(f\"Processing: {excel_path.name}\")\n",
    "    \n",
    "    data = read_completed_excel_result(excel_path)\n",
    "    \n",
    "    create_excel_template(\n",
    "        known=data['known'].drop(columns=['include_phrase']),\n",
    "        unknown=data['unknown'].drop(columns=['include_phrase']),\n",
    "        no_context=data['no_context'],\n",
    "        metadata=data['metadata'],\n",
    "        docs=data['docs'],\n",
    "        path='/Volumes/BCross/paraphrase examples/Wiki-test-gpt-4-1-v2/hootmag_text_12 vs hootmag_text_13.xlsx',\n",
    "        known_sheet = \"known\",\n",
    "        unknown_sheet = \"unknown\",\n",
    "        nc_sheet = \"no context\",\n",
    "        metadata_sheet = \"metadata\",\n",
    "        docs_sheet = \"docs\",\n",
    "        llr_sheet = \"LLR\",\n",
    "        use_xlookup = False\n",
    "    )\n",
    "\n",
    "    print(f\"  ✓ Wrote: {excel_path}\")"
   ]
  }
 ],
 "metadata": {
  "language_info": {
   "name": "python"
  }
 },
 "nbformat": 4,
 "nbformat_minor": 5
}
