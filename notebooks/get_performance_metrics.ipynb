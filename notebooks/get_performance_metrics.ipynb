{
 "cells": [
  {
   "cell_type": "code",
   "execution_count": null,
   "id": "5a34fd72-aec9-4469-aab3-15cf3b3cad1a",
   "metadata": {},
   "outputs": [],
   "source": [
    "import os\n",
    "import sys"
   ]
  },
  {
   "cell_type": "code",
   "execution_count": null,
   "id": "b2d89247-cd94-4630-8ae6-128044470cff",
   "metadata": {},
   "outputs": [],
   "source": [
    "sys.path.append(os.path.abspath('../src'))"
   ]
  },
  {
   "cell_type": "code",
   "execution_count": null,
   "id": "40a05f55-0c66-4d43-ac94-ef6e3b089154",
   "metadata": {},
   "outputs": [],
   "source": [
    "from performance import performance\n",
    "from read_and_write_docs import read_jsonl, write_jsonl"
   ]
  },
  {
   "cell_type": "code",
   "execution_count": null,
   "id": "d2820b35",
   "metadata": {},
   "outputs": [],
   "source": [
    "base_results_loc = \"/Volumes/BCross/datasets/author_verification/log_probs_results\"\n",
    "\n",
    "abs_differences_loc = f\"{base_results_loc}/abs_differences\"\n",
    "log_probs_loc = f\"{base_results_loc}/log_probs\""
   ]
  },
  {
   "cell_type": "code",
   "execution_count": null,
   "id": "3b84adc2",
   "metadata": {},
   "outputs": [],
   "source": [
    "wiki_abs_train = read_jsonl(f\"{abs_differences_loc}/training_enron_qwen2.5_1.5b_instruct.jsonl\")\n",
    "wiki_abs_test = read_jsonl(f\"{abs_differences_loc}/training_enron_qwen2.5_1.5b_instruct.jsonl\")"
   ]
  },
  {
   "cell_type": "code",
   "execution_count": null,
   "id": "3ce6201f-ea03-4168-9137-df53dc6d7c2e",
   "metadata": {},
   "outputs": [],
   "source": [
    "wiki_abs_train_agg = (\n",
    "    wiki_abs_train\n",
    "    .groupby(['corpus', 'problem', 'data_type', 'comparison', 'label'], as_index=False)\n",
    "    ['aggregated_score']\n",
    "    .mean()\n",
    "    .rename(columns={'aggregated_score': 'score'})\n",
    ")\n",
    "\n",
    "wiki_abs_test_agg = (\n",
    "    wiki_abs_test\n",
    "    .groupby(['corpus', 'problem', 'data_type', 'comparison', 'label'], as_index=False)\n",
    "    ['aggregated_score']\n",
    "    .mean()\n",
    "    .rename(columns={'aggregated_score': 'score'})\n",
    ")"
   ]
  },
  {
   "cell_type": "code",
   "execution_count": null,
   "id": "8fbb8536-2531-4a90-8626-f39a9dda3cc5",
   "metadata": {},
   "outputs": [],
   "source": [
    "score_col = 'score'\n",
    "target_col = 'label'\n",
    "result_name = 'Experiment_1'\n",
    "result_description = 'Initial experiment with basic model'\n",
    "corpus = 'Sample_Corpus'\n",
    "data_type = 'test'\n",
    "model = 'Logistic_Regression'\n",
    "keep_cols = ['corpus', 'data_type', 'comparison']"
   ]
  },
  {
   "cell_type": "code",
   "execution_count": null,
   "id": "d5a4933a",
   "metadata": {},
   "outputs": [],
   "source": [
    "result_metrics = performance(wiki_abs_train_agg,\n",
    "                             score_col,\n",
    "                             target_col,\n",
    "                            df_test=wiki_abs_test_agg,\n",
    "                            keep_cols = keep_cols,\n",
    "                            additional_metadata={'result_name': result_name})"
   ]
  },
  {
   "cell_type": "code",
   "execution_count": null,
   "id": "01f4074a",
   "metadata": {},
   "outputs": [],
   "source": [
    "result_metrics"
   ]
  }
 ],
 "metadata": {
  "kernelspec": {
   "display_name": "paraphrase_llm",
   "language": "python",
   "name": "my_env"
  },
  "language_info": {
   "codemirror_mode": {
    "name": "ipython",
    "version": 3
   },
   "file_extension": ".py",
   "mimetype": "text/x-python",
   "name": "python",
   "nbconvert_exporter": "python",
   "pygments_lexer": "ipython3",
   "version": "3.10.9"
  }
 },
 "nbformat": 4,
 "nbformat_minor": 5
}
