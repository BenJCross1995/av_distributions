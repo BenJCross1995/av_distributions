{
 "cells": [
  {
   "cell_type": "code",
   "execution_count": 5,
   "id": "5c90023b",
   "metadata": {},
   "outputs": [],
   "source": [
    "library(idiolect)\n",
    "library(jsonlite)\n",
    "library(dplyr)\n",
    "library(purrr)"
   ]
  },
  {
   "cell_type": "code",
   "execution_count": 6,
   "id": "b763bbff",
   "metadata": {},
   "outputs": [],
   "source": [
    "read_jsonl <- function(file_path) {\n",
    "  readLines(file_path, encoding = \"UTF-8\") %>%\n",
    "    map(~ fromJSON(.x, simplifyVector = FALSE)) %>%\n",
    "    map(~ if (is.null(names(.x)) && length(.x) == 1) .x[[1]] else .x) %>%\n",
    "    bind_rows()\n",
    "}"
   ]
  },
  {
   "cell_type": "code",
   "execution_count": 10,
   "id": "285d631c",
   "metadata": {},
   "outputs": [],
   "source": [
    "test = read_jsonl('/Volumes/BCross/datasets/author_verification/lambda_g_results/Wiki_training_qwen2.5_1.5b_instruct_raw.jsonl')"
   ]
  },
  {
   "cell_type": "code",
   "execution_count": 11,
   "id": "9762eac8",
   "metadata": {},
   "outputs": [
    {
     "name": "stdout",
     "output_type": "stream",
     "text": [
      "  |==========================================================| 100%\n",
      "Setting levels: control = FALSE, case = TRUE\n",
      "Setting direction: controls < cases\n"
     ]
    },
    {
     "data": {
      "text/plain": [
       "$evaluation\n",
       "       Cllr  Cllr_min      EER Mean TRUE LLR Mean FALSE LLR\n",
       "1 0.5887618 0.4485723 13.97763      1.265053     -0.9953617\n",
       "  TRUE trials FALSE trials       AUC Balanced Accuracy Precision\n",
       "1         377          377 0.9276373         0.8586667 0.8567639\n",
       "     Recall        F1  TP FN FP  TN\n",
       "1 0.8613333 0.8590426 323 52 54 321\n",
       "\n",
       "$roc\n",
       "\n",
       "Call:\n",
       "NULL\n",
       "\n",
       "Data: (unknown) in 0 controls ((unknown) )  0 cases ((unknown) ).\n",
       "Area under the curve not computed.\n"
      ]
     },
     "execution_count": null,
     "metadata": {},
     "output_type": "execute_result"
    }
   ],
   "source": [
    "performance(test)"
   ]
  },
  {
   "cell_type": "code",
   "execution_count": null,
   "id": "ad85a392",
   "metadata": {},
   "outputs": [],
   "source": [
    "result_loc <- \"/Volumes/BCross/datasets/author_verification/lambda_g_results/paraphrase_v1/Wiki-training\""
   ]
  },
  {
   "cell_type": "code",
   "execution_count": null,
   "id": "29945887",
   "metadata": {},
   "outputs": [],
   "source": [
    "performance()"
   ]
  }
 ],
 "metadata": {
  "language_info": {
   "name": "r"
  }
 },
 "nbformat": 4,
 "nbformat_minor": 5
}
